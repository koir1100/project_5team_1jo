{
 "cells": [
  {
   "cell_type": "code",
   "execution_count": 1,
   "id": "cb0f44e6-3876-49f1-91f6-c6cd0a36bca0",
   "metadata": {},
   "outputs": [],
   "source": [
    "import requests\n",
    "import sqlite3\n",
    "from bs4 import BeautifulSoup"
   ]
  },
  {
   "cell_type": "code",
   "execution_count": 4,
   "id": "f3bca2c9-98fe-42bf-b7f3-87a4338403de",
   "metadata": {},
   "outputs": [],
   "source": [
    "res = requests.get(\"https://nl.go.kr/NL/search/openApi/saseoApi.do?key=db8a289366383dbe00b598a34f67605d7609c7672a069529503b0a95bed63eba&startRowNumApi=1&endRowNumApi=1332\")"
   ]
  },
  {
   "cell_type": "code",
   "execution_count": 5,
   "id": "28c33fbb-7b7b-4517-9606-ab80d2bafb3e",
   "metadata": {},
   "outputs": [],
   "source": [
    "soup = BeautifulSoup(res.text, \"html.parser\")"
   ]
  },
  {
   "cell_type": "code",
   "execution_count": 6,
   "id": "ade55623-2ca3-4ce9-942a-5304dda56923",
   "metadata": {},
   "outputs": [],
   "source": [
    "input_list = [[] for _ in range(1332)]"
   ]
  },
  {
   "cell_type": "code",
   "execution_count": 7,
   "id": "7b5aef11-9146-4df8-aedd-055da3e75f50",
   "metadata": {},
   "outputs": [],
   "source": [
    "no_list = [i.text for i in soup.find_all(\"recomno\")]\n",
    "dr_list = [i.text for i in soup.find_all(\"drcode\")]\n",
    "title_list = [i.text for i in soup.find_all(\"recomtitle\")]\n",
    "author_list = [i.text for i in soup.find_all(\"recomauthor\")]\n",
    "pub_list = [i.text for i in soup.find_all(\"recompublisher\")]\n",
    "year_list = [i.text for i in soup.find_all(\"publishyear\")]"
   ]
  },
  {
   "cell_type": "code",
   "execution_count": 8,
   "id": "7ddb403b-9065-4abf-b7c7-57e9787aa9b3",
   "metadata": {},
   "outputs": [],
   "source": [
    "cont_list = []\n",
    "conts = soup.find_all(\"recomcontens\")\n",
    "\n",
    "for i in conts:\n",
    "    a = BeautifulSoup(i.text, \"html.parser\")\n",
    "    cont_list.append(a.text.replace(\"\\xa0\", \" \").replace(\"\\n\", \" \").replace(\"\\r\", \" \"))"
   ]
  },
  {
   "cell_type": "code",
   "execution_count": 9,
   "id": "095bba3b-e9fd-4219-922c-633984a69968",
   "metadata": {},
   "outputs": [],
   "source": [
    "for i in range(1332):\n",
    "    input_list[i].append(no_list[i])\n",
    "    input_list[i].append(dr_list[i])\n",
    "    input_list[i].append(title_list[i])\n",
    "    input_list[i].append(author_list[i])\n",
    "    input_list[i].append(pub_list[i])\n",
    "    input_list[i].append(cont_list[i])\n",
    "    input_list[i].append(year_list[i])\n",
    "    input_list[i] = tuple(input_list[i])"
   ]
  },
  {
   "cell_type": "code",
   "execution_count": 10,
   "id": "5e02a435-83ba-45cf-bd00-c9bf18770fe0",
   "metadata": {},
   "outputs": [],
   "source": [
    "input_list = tuple(input_list)"
   ]
  },
  {
   "cell_type": "code",
   "execution_count": 11,
   "id": "f2828639-6cd2-49fc-a186-2f90c1a2f0ce",
   "metadata": {},
   "outputs": [],
   "source": [
    "conn = sqlite3.connect(\"./books.db\")\n",
    "cur = conn.cursor()"
   ]
  },
  {
   "cell_type": "code",
   "execution_count": 12,
   "id": "3e6fca86-1d34-4f29-b59f-e5f534fc60f2",
   "metadata": {},
   "outputs": [],
   "source": [
    "cur.executemany(\"INSERT INTO books (recomNo, drCode, recomTitle, recomAuthor, recomPublisher, recomContens, publishYear) VALUES (?, ?, ?, ?, ?, ?, ?)\", input_list)\n",
    "conn.commit()"
   ]
  },
  {
   "cell_type": "code",
   "execution_count": 13,
   "id": "91d93a42-99bc-481d-8bd2-42d251a50b90",
   "metadata": {},
   "outputs": [],
   "source": [
    "cur.close()\n",
    "conn.close()"
   ]
  }
 ],
 "metadata": {
  "kernelspec": {
   "display_name": "Python 3 (ipykernel)",
   "language": "python",
   "name": "python3"
  },
  "language_info": {
   "codemirror_mode": {
    "name": "ipython",
    "version": 3
   },
   "file_extension": ".py",
   "mimetype": "text/x-python",
   "name": "python",
   "nbconvert_exporter": "python",
   "pygments_lexer": "ipython3",
   "version": "3.12.2"
  }
 },
 "nbformat": 4,
 "nbformat_minor": 5
}
